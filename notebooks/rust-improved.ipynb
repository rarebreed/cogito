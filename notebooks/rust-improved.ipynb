{
 "cells": [
  {
   "cell_type": "markdown",
   "metadata": {},
   "source": [
    "# How to write quality rust\n",
    "\n",
    "This is a guide or cookbook on how to make good quality rust projects.  We will concern ourselves\n",
    "with the following\n",
    "\n",
    "- build and release\n",
    "    - git hooks to lint, format and test code before pushing\n",
    "    - cargo commands to run before publishing\n",
    "- documentation\n",
    "    - rustdoc and documentation and setting up as part of build process\n",
    "    - mdbook to write high level docs\n",
    "- checking for semver and API compatibility\n",
    "- how to organize code\n",
    "    - how to model data and traits\n",
    "- how to handle errors\n",
    "- examples of macros\n",
    "- common rust gotchas\n",
    "    - loops and recursion\n",
    "    - lack of inheritance\n",
    "    - difference between dyn Trait, impl Trait, Box<dyn Trait>, &Trait\n",
    "    - Deref and when to use it\n",
    "    - Arc, Rc, RefCell and when to use them\n",
    "- async\n",
    "    - Custom Future\n",
    "    - Streams\n",
    "    - spawning tasks\n"
   ]
  }
 ],
 "metadata": {
  "language_info": {
   "name": "python"
  },
  "orig_nbformat": 4
 },
 "nbformat": 4,
 "nbformat_minor": 2
}
