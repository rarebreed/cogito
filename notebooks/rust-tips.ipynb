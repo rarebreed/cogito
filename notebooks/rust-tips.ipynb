{
 "cells": [
  {
   "cell_type": "markdown",
   "metadata": {},
   "source": [
    "# Common rust packages\n",
    "\n",
    "- serde: for serialzing rust data to/from  different formats\n",
    "- serde-json: serde to json\n",
    "- log: simple logger\n",
    "- flexi-logger: more complicated logger\n",
    "- chrono: useful time constructs\n",
    "- tokio: most popular async runtime and framework\n",
    "- reqwest: popular async capable http client\n",
    "- clap: command line framework\n",
    "\n",
    "## Useful for our purposes\n",
    "\n",
    "- arrow2: rust apache arrow implementation\n",
    "- datafusion: dataframe framework\n",
    "- ballista: distributed compute platform on top of datafusion\n",
    "- parquet: for reading/writing to parquet format"
   ]
  },
  {
   "cell_type": "code",
   "execution_count": null,
   "metadata": {
    "vscode": {
     "languageId": "rust"
    }
   },
   "outputs": [],
   "source": [
    "use std::{path::PathBuf, fs::{self, DirEntry}, error::Error, rc::Rc};\n",
    "\n",
    "type DynError = Box<dyn Error + 'static + Send + Sync>;\n",
    "\n",
    "/// Lists the files \n",
    "pub fn list_dir<T>(path: PathBuf, depth: usize, hdlr: &T) -> Result<(), DynError>\n",
    "    where T: Fn(&DirEntry, usize) -> Result<(), DynError> {\n",
    "    let entries = fs::read_dir(path)?;\n",
    "    for entry in entries {\n",
    "        let entry = entry?;\n",
    "        let ft = entry.file_type()?;\n",
    "        hdlr(&entry, depth)?;\n",
    "        if ft.is_dir() {\n",
    "            list_dir(entry.path(), depth + 1, hdlr)?;\n",
    "        };\n",
    "    }\n",
    "\n",
    "    Ok(())\n",
    "}\n",
    "\n",
    "pub fn space_string(base: &str, depth: usize) -> String {\n",
    "  let reserve = base.len() + depth*2;\n",
    "  let mut new_str = String::with_capacity(reserve);\n",
    "  // Doesn't require new allocation, so this should be fast\n",
    "  for _ in 0..depth*2 {\n",
    "      new_str.push(' ');\n",
    "  }\n",
    "  new_str.push_str(base);\n",
    "  new_str\n",
    "}\n",
    "\n",
    "fn test() -> Result<(), DynError> {\n",
    "    //let curr = std::env::current_dir()?;\n",
    "    list_dir_2(PathBuf::from(\"/tmp\"), 0, &|entry: &DirEntry, depth: usize| {\n",
    "        let spaces = space_string(\"-\", depth + 2);\n",
    "        println!(\"{spaces}{:?}\", entry.file_name());\n",
    "        Ok(())\n",
    "    })?;\n",
    "    Ok(())\n",
    "}\n",
    "\n",
    "test();"
   ]
  },
  {
   "cell_type": "code",
   "execution_count": null,
   "metadata": {
    "vscode": {
     "languageId": "rust"
    }
   },
   "outputs": [],
   "source": [
    "fn replacer() {\n",
    "    let test =\n",
    "}"
   ]
  }
 ],
 "metadata": {
  "interpreter": {
   "hash": "547f832b66482c18a991a24fdb333e9655121fd5be3caac21676abbecffc7f10"
  },
  "kernelspec": {
   "display_name": "Rust",
   "language": "rust",
   "name": "rust"
  },
  "language_info": {
   "codemirror_mode": "rust",
   "file_extension": ".rs",
   "mimetype": "text/rust",
   "name": "Rust",
   "pygment_lexer": "rust",
   "version": ""
  },
  "orig_nbformat": 4
 },
 "nbformat": 4,
 "nbformat_minor": 2
}
