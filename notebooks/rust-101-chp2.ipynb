{
 "cells": [
  {
   "cell_type": "markdown",
   "metadata": {},
   "source": [
    "#"
   ]
  },
  {
   "cell_type": "markdown",
   "metadata": {},
   "source": [
    "# The Basics\n",
    "\n",
    "The chapter will introduce some bare basics.  In order to explain some things, we will need to briefly go over how\n",
    "lifetimes work.  It's assumed you already followed Chapter 0, the prerequisites."
   ]
  }
 ],
 "metadata": {
  "kernelspec": {
   "display_name": "Rust",
   "name": "rust"
  },
  "language_info": {
   "name": "rust"
  },
  "orig_nbformat": 4
 },
 "nbformat": 4,
 "nbformat_minor": 2
}
