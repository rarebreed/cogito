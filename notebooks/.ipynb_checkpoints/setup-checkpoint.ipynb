{
 "cells": [
  {
   "cell_type": "markdown",
   "metadata": {
    "pycharm": {
     "name": "#%% md\n"
    }
   },
   "source": [
    "# Bootstrapping the project\n",
    "\n",
    "To run cogito, you will need to install and setup some software on your\n",
    "system.\n",
    "\n",
    "- nushell: Because it's cooler than bash/zsh\n",
    "- pyenv: To manage python environments\n",
    "- jupyter: To install jupyterlab and notebook itself\n",
    "- evcxr_jupyter\n",
    "\n",
    "## Installing pyenv\n",
    "\n",
    "pyenv is a tool that lets you not only install different python virtual environments,\n",
    "but also different python versions.  This is the best way to manage both.\n",
    "\n",
    "Before running the script block here you will want"
   ]
  },
  {
   "cell_type": "code",
   "execution_count": null,
   "metadata": {
    "collapsed": false,
    "jupyter": {
     "outputs_hidden": false
    },
    "pycharm": {
     "is_executing": true,
     "name": "#%%\n"
    }
   },
   "outputs": [],
   "source": [
    "!curl https://pyenv.run | bash\n",
    "!exec $SHELL\n",
    "!pyenv update"
   ]
  }
 ],
 "metadata": {
  "kernelspec": {
   "display_name": "Python 3 (ipykernel)",
   "language": "python",
   "name": "python3"
  },
  "language_info": {
   "codemirror_mode": {
    "name": "ipython",
    "version": 3
   },
   "file_extension": ".py",
   "mimetype": "text/x-python",
   "name": "python",
   "nbconvert_exporter": "python",
   "pygments_lexer": "ipython3",
   "version": "3.9.7"
  }
 },
 "nbformat": 4,
 "nbformat_minor": 4
}
