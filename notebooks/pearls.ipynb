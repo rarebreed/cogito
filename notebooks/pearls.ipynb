{
 "cells": [
  {
   "cell_type": "markdown",
   "metadata": {},
   "source": [
    "# FP pearls\n",
    "\n",
    "These are just collected thoughts on software engineering.  A poor man's epigrams if you will\n",
    "\n",
    "- How do you test a function that returns nothing?\n",
    "- Prefer (real) functions over methods\n",
    "- Function names should not be sentences\n",
    "- Separation of concerns includes data from methods\n",
    "- Composition is the essence of computation\n",
    "- Pipelines are just another form of Composition\n",
    "- Make your functions like water: as pure as possible\n",
    "- Make your functions like water: it can take many forms\n",
    "- Don't call us, we'll call you\n",
    "- If you do have to call, we will leave you a message\n",
    "- Prefer immutable data where you can, unless performance is critical\n",
    "- Laziness is a virtue: Try to copy data as little as possible\n",
    "- Laziness is a virtue: Why go to the heap when you can work on the stack?\n",
    "- Modules should not download the internet with dependencies\n",
    "- Open source is great, but comes with strings attached\n",
    "- Decoupling is great...when you can afford it\n",
    "- Does a number know how to add, or a bike know how to cycle?  So why insist on classes?\n",
    "- Tests are like coins: they should have two sides\n",
    "- The harder it is to mock out functionality, the more hardwiring you did\n",
    "- Learn your IDE tricks to speed up your coding\n",
    "\n",
    "JVM tidbits\n",
    "\n",
    "- OOP is not the best Model \n",
    "- Use value classes once ready\n",
    "- Know how the bytecode works\n",
    "- Dont be afraid of recursion (if using scala, kotlin or clojure)\n",
    "- Minimize your dependencies\n",
    "\n",
    "Rust tidbits\n",
    "\n",
    "- Lifetimes are hard, but references beats copying data\n"
   ]
  },
  {
   "cell_type": "markdown",
   "metadata": {},
   "source": [
    "## Prefer functions to methods\n",
    "\n",
    "Methods, in most laguages, are bound to a class (technically an instance of the class).  They implicitly have a hidden\n",
    "first argument which is a reference to the class instance itself. It might be called `this` or `self` in many languages.\n",
    "\n",
    "A true function does not have this implicit argument, and is not bound to an instance.  That being said, a function can\n",
    "have free variables inside of it, which can be captured from an outer scope (eg closures).  Indeed, one can think of a\n",
    "closure as a poor man's object.  But closures must take care if they mutate the captured arguments.\n",
    "\n",
    "But why are functions better than methods?  Firstly, you dont need to instantiate an object to call them.  Secondly, all\n",
    "the arguments are explicit and under your control (unlike methods, which often use state in the instance to work with).\n",
    "Lastly, there are sometimes implementation differences between the two, as is with kotlin's method references, or\n",
    "scala's eta expansion."
   ]
  },
  {
   "cell_type": "code",
   "execution_count": 26,
   "metadata": {
    "vscode": {
     "languageId": "rust"
    }
   },
   "outputs": [
    {
     "name": "stdout",
     "output_type": "stream",
     "text": [
      "Character {\n",
      "    name: \"Sean\",\n",
      "    equipment: [\n",
      "        Equipment {\n",
      "            name: \"sword\",\n",
      "            price: 1000.0,\n",
      "            weight: 10.0,\n",
      "        },\n",
      "        Equipment {\n",
      "            name: \"shield\",\n",
      "            price: 500.0,\n",
      "            weight: 7.0,\n",
      "        },\n",
      "    ],\n",
      "}\n",
      "Character {\n",
      "    name: \"Sean\",\n",
      "    equipment: [\n",
      "        Equipment {\n",
      "            name: \"shield\",\n",
      "            price: 500.0,\n",
      "            weight: 7.0,\n",
      "        },\n",
      "    ],\n",
      "}\n"
     ]
    },
    {
     "data": {
      "text/plain": [
       "()"
      ]
     },
     "execution_count": 26,
     "metadata": {},
     "output_type": "execute_result"
    }
   ],
   "source": [
    "// Rust doesn't have methods, because it doesn't have classes.  But it does have structs which are just data.  It also\n",
    "// has a way to separately add implementations of functions to the struct (or enum).  \n",
    "#[derive(Debug)]\n",
    "pub struct Equipment {\n",
    "    pub name: String,\n",
    "    pub price: f64,\n",
    "    pub weight: f64\n",
    "}\n",
    "\n",
    "#[derive(Debug)]\n",
    "pub struct Character {\n",
    "    name: String,\n",
    "    equipment: Vec<Equipment>\n",
    "}\n",
    "\n",
    "// These look like methods, but there are some a crucial differences.  \n",
    "// - They do not all implicitly have &self as an argument\n",
    "// - The implementation of the methods can happen separately from the struct declaration (even in another file!)\n",
    "impl Character {\n",
    "    pub fn new(name: String) -> Self {\n",
    "        Character { name , equipment: vec![]}\n",
    "    }\n",
    "\n",
    "    pub fn add_equipment(&mut self, item: Equipment) -> &mut Self {\n",
    "        self.equipment.push(item);\n",
    "        self\n",
    "    }\n",
    "\n",
    "    pub fn remove_equipment(&mut self, name: &str) -> &mut Self {\n",
    "        let r1 = 0..self.equipment.len();\n",
    "        let zipped = r1.zip(self.equipment.iter());\n",
    "        let mut at = 0;\n",
    "        let mut found = false;\n",
    "        for (idx, item) in zipped {\n",
    "            if item.name == name {\n",
    "                at = idx;\n",
    "                found = true;\n",
    "                break\n",
    "            }\n",
    "        }\n",
    "        if found {\n",
    "            self.equipment.remove(at);\n",
    "        }\n",
    "        self\n",
    "    }\n",
    "}\n",
    "\n",
    "fn test() {\n",
    "    let mut char = Character::new(\"Sean\".into());\n",
    "    char\n",
    "        .add_equipment(Equipment {\n",
    "            name: \"sword\".into(),\n",
    "            price: 1000.00,\n",
    "            weight: 10.0\n",
    "        })\n",
    "        .add_equipment(Equipment {\n",
    "            name: \"shield\".into(),\n",
    "            price: 500.00,\n",
    "            weight: 7.00\n",
    "        });\n",
    "    println!(\"{char:#?}\");\n",
    "    char.remove_equipment(\"sword\");\n",
    "    println!(\"{char:#?}\");\n",
    "}\n",
    "\n",
    "test()"
   ]
  },
  {
   "cell_type": "markdown",
   "metadata": {},
   "source": [
    "## Long named functions are a code smell\n",
    "\n",
    "This is probably going to be the most controversial epigram.  Think about what most functions do in FP programs.  They\n",
    "are very concise in what they do.  For example, `map`, `flatMap`, `reduce`, `take`, `filter`.  Because thet only do one\n",
    "thing, it's easy to understand what they do.\n",
    "\n",
    "A long named function is probably doing many things, or doing something hard to describe.  Why is it hard to describe?\n",
    "A function's purpose is to transform data from one kind to another.  That is the ultimate essence of computation: \"from\n",
    "this data, give me this transformed data of some other representation\".  Seriously.  That's what computation is.\n",
    "\n",
    "Now, those short named functions describe the operation, but not its meaning.  For example, `map` means \"convert this\n",
    "container/context of X into a container/context of Y\".  It does not tell you that the meaning is \"convert this list of\n",
    "numbers to strings\".  In such a case, you could give your function a name like \"intsToStrings\".\n",
    "\n",
    "Recall, that a program is just the composition of functions.  This is different from the imperative style of \"do this,\n",
    "then do that\".  When you compose functions, you dont need to explain everything just the the the first to last\n",
    "composition. "
   ]
  },
  {
   "cell_type": "code",
   "execution_count": 27,
   "metadata": {
    "vscode": {
     "languageId": "rust"
    }
   },
   "outputs": [],
   "source": [
    "// This name already indicates it is doing several things.\n",
    "// It is getting data from s3, and calculating a difference.  So create 2 functions\n",
    "fn takes_data_from_s3_finds_difference_between_json_files() {\n",
    "\n",
    "}"
   ]
  },
  {
   "cell_type": "markdown",
   "metadata": {},
   "source": [
    "\n",
    "## Objects as just data\n",
    "\n",
    "Most engineers were taught OOP programming in school, and worked in OOP languages at work.  As such, they were trained\n",
    "to think in terms of \"Objects\".  Blueprints for things with both data, state, and functionality to work on its own\n",
    "internal state (or other data)\n",
    "\n",
    "The problem with this is many.  While Objects feel intuitive, it leads to all kinds of decisions about how to model the\n",
    "data.  The real problem though, is conflating mutable internal state, with immutable plain old data.\n",
    "\n",
    "Think about it like this.  When you get a message from a websocket, is that just data or is it some class with methods\n",
    "too?  We work with pure data all the time.  Databases, events, network data, etc.  When we get this data over the wire\n",
    "or from a filesystem, guess what...it's JUST data.  But we are told in OOP that we must think of this data as an Object.\n",
    "An instance of some blueprint that contains methods to act on this data.\n",
    "\n",
    "Everytime you write a POJO, or write a static method, you are witnessing the failure of the OOP paradigm. Everytime you\n",
    "have to write final, or synchronized, you are witnessing the failure to treat separate data from state.  Let me ask you\n",
    "this.  When you have a number, is that an object?  Is it data, or does it have some state?  To get six, even if I do\n",
    "`5.plus(1)` (which is valid scala BTW), did I mutate 5?\n",
    "\n",
    "Even Java has admitted this value in two respects.  The first is Java 15 record classes.  This is a new way to easily\n",
    "create POJOs without all the boilerplate.  The second is with their upcoming Valhalla project and value classes (more on\n",
    "this later)\n",
    "\n",
    "So, long story short, treat data as data and create functions that work with that data"
   ]
  },
  {
   "cell_type": "code",
   "execution_count": 28,
   "metadata": {
    "vscode": {
     "languageId": "rust"
    }
   },
   "outputs": [],
   "source": [
    "pub struct Point {\n",
    "    x: f64,\n",
    "    y: f64,\n",
    "    z: f64\n",
    "}\n",
    "\n",
    "// Even java has `record` tyoes now, which are _just_ data.  No need to add methods if you dont want"
   ]
  },
  {
   "cell_type": "markdown",
   "metadata": {},
   "source": [
    "## Composition is the essence of computation\n",
    "\n",
    "It took me a long time to figure this one out.  Computation is really just the processing of a graph.  We have been\n",
    "blinded by imperative programming that you do a sequence of steps.\n",
    "\n",
    "```\n",
    "x = doThis() // either this is a side effectful function, or it's an effective literal \n",
    "y = doThatWithX(x)\n",
    "doSomethingWithSideEffect(y) // what's going on here?\n",
    "z = doSomethingElseWithX(x) // did doThatWithX mutate x?\n",
    "```\n",
    "\n",
    "We really have two kinds of processing: pure and impure.  Pure programming takes some input and returns some output. It\n",
    "also neither affects the outside world, nor is affected by it. Impure programming can possibly take no input, and\n",
    "possibly return no output and either affects or is affected by the outside world.  We need to somehow keep these two\n",
    "separate, and yet also interoperate with each other.  If you ever heard of the term monad, that's basically what it\n",
    "does.  It's a bridge between the two.  Monads allow you to wall off the impure from the pure, keeping it\n",
    "compartmentalized, and carrying the \"effect\" along for the ride.\n",
    "\n",
    "We can then treat all computation, including the impure, as a pipeline of functions.  We can even see multithreaded or\n",
    "async program in this light, by thinking of them as branches in the graph (that usually converge back into the main\n",
    "trunk).  In fact several async computational runtimes (eg kotlinx coroutines and rust's async are state machines, and\n",
    "what are state machines? graphs).\n",
    "\n",
    "What is the advantage to thinking this way?  Many.  The first, is that you should be able to test any section of the\n",
    "program in isolation, as long as you can construct the data it should have at that point. It's also easier to visualize\n",
    "as a flow chart."
   ]
  },
  {
   "cell_type": "code",
   "execution_count": 29,
   "metadata": {
    "vscode": {
     "languageId": "rust"
    }
   },
   "outputs": [
    {
     "data": {
      "text/plain": [
       "28"
      ]
     },
     "execution_count": 29,
     "metadata": {},
     "output_type": "execute_result"
    }
   ],
   "source": [
    "fn f(x: u32) -> u32 {\n",
    "    x * 2\n",
    "}\n",
    "\n",
    "fn g(x: u32) -> u32 {\n",
    "    x + 10\n",
    "}\n",
    "\n",
    "fn test() -> u32 {\n",
    "    let g_ans = g(4);\n",
    "    let f_ans = f(g_ans);\n",
    "    f_ans\n",
    "}\n",
    "\n",
    "test();\n",
    "\n",
    "// composing these functions vs imperatively building up the solution\n",
    "f(g(4))"
   ]
  },
  {
   "cell_type": "markdown",
   "metadata": {},
   "source": [
    "## Pipelines are composition \n",
    "\n",
    "The mathematical form of composition f of g is sometimes counter intuitive.  Even though f comes first in the alphabet,\n",
    "we execute g first, and apply its output as the input to f.  So you have to execute right to left.  Pipelines are more\n",
    "intuitive, as they execute from left to right.  f | g means execute f, and pump its output to the input of g.  And isnt\n",
    "that what this imperative code is doing?\n",
    "\n",
    "```\n",
    "x = someFunc(1)\n",
    "y = anotherFunc(x)\n",
    "// equals anotherFunc(someFunc(1))\n",
    "```\n",
    "\n",
    "What if we could write this as \n",
    "\n",
    "```scala\n",
    "// scala syntax\n",
    "someFunc(1) |> anotherFunc(_)\n",
    "```\n",
    "\n",
    "Unfortunately, rust does not let us create operator style syntax.  But you could create your own\n",
    "pipe function."
   ]
  },
  {
   "cell_type": "code",
   "execution_count": 32,
   "metadata": {
    "vscode": {
     "languageId": "rust"
    }
   },
   "outputs": [
    {
     "data": {
      "text/plain": [
       "28"
      ]
     },
     "execution_count": 32,
     "metadata": {},
     "output_type": "execute_result"
    }
   ],
   "source": [
    "pub fn pipe<A, B, C>(f1: impl Fn(A) -> B, f2: impl Fn(B) -> C) -> impl Fn(A) -> C {\n",
    "    move |a: A| f2(f1(a))\n",
    "}\n",
    "\n",
    "fn f(x: u32) -> u32 {\n",
    "    x * 2\n",
    "}\n",
    "\n",
    "fn g(x: u32) -> u32 {\n",
    "    x + 10\n",
    "}\n",
    "\n",
    "pipe(g, f)(4)"
   ]
  },
  {
   "cell_type": "markdown",
   "metadata": {},
   "source": [
    "\n",
    "## Make as many functions pure as you can\n",
    "\n",
    "It's easy to mix in side effects into your code.  Often we do need to make a request to some service, or read from a\n",
    "file, but try to compartmentalize and batch these up as much as you can.  Even logging can be done purely, if you are\n",
    "willing to wait for a computation to complete (or error out).\n",
    "\n",
    "For example, you can build up a string and pass it along.  I wouldnt do this for a large program, but you could for\n",
    "small sections of code.\n",
    "\n",
    "Logging is to some degree a side effect of side effectful programming (wow, meta).  While sometimes it is nice to know\n",
    "what is happening regardless of purity, if you have a pure function, they are simple to test, immune to time, immune to\n",
    "the outside world, and do not affect the outside world.  In other words, you really shouldn't need to have logging\n",
    "information (unless you just wanted to know what the input was).  Generally, logging is needed when you have data that\n",
    "you need to keep track of some intermediate state, what time it executed, or the order of execution.\n",
    "\n",
    "With pure functions, you shouldnt have to worry about any of that (as long as your program is built as a graph so that\n",
    "out of order execution is not possible even in multi threaded programming and every call in your function chain is pure)\n",
    "\n",
    "## Pushing is better than pulling\n",
    "\n",
    "Ever heard the phrase, \"Dont call us, we'll call you\"?  If you have heard it of it, it was probably in reference to the\n",
    "Inversion of Control principle, which is usually (incorrectly) thought of to be synonymous with Dependency Injection.\n",
    "We are also talking about inversion of control here, but not with dependency injection.\n",
    "\n",
    "With IOC, we flip the notion on its head of how data is received.  Instead of asking for data, you are told what the\n",
    "data is.  Developers with experience in event driven programs know this idea well.  You don't ask for (eg poll) the\n",
    "data. This is inefficient and may result in lost data changes.  While event driven architectures are harder to\n",
    "implement, they also solve many design problems which are next to impossible to handle correctly otherwise.  How many\n",
    "times have you needed to know when data in a database changed? Or a file changed?  Or information was available on a\n",
    "socket?  Or some job that even though it is on a cron schedule fails often and has to be rerun at a later unknown time?\n",
    "\n",
    "Frequency of the event occuring is not the issue, knowing _when_ data changed is.  Polling is not only expensive for the\n",
    "client, as it has to sit and wait between intervals (probably consuming a precious thread) but it's also possible that\n",
    "the polling may miss an update.\n",
    "\n",
    "The ubiquity of messaging systems like kafka, activemq, mqtt, or SQS shows that there is a reason people want and need\n",
    "to listen to a stream of data.\n",
    "\n",
    "\n",
    "## If you do have to pull, tell your clients\n",
    "\n",
    "If you are going with a pull model, at least notify the consumers when data is ready.  That way they know when to\n",
    "actually make the poll call.  That's basically how the epoll and select system command in linux works in linux.  It\n",
    "basically spins in a loop, waiting for a marker to be set, and then the OS knows there is data on the file descriptor or\n",
    "socket, at which point the OS does make a call to retrieve the new data.\n",
    "\n",
    "This way solves two of the aforementioned problems.  You wont miss any data changes, and the client wont waste time with\n",
    "meaningless calls to get data when none is available.  However, this setup isn't much easier than writing an event based\n",
    "system.  It requires a two way asynchronous communcation ability similar to event driven systems.  However, it is easier\n",
    "for more people to reason about than reactive architectures.  However, it is also missing functionality of reactive\n",
    "systems too."
   ]
  },
  {
   "cell_type": "markdown",
   "metadata": {},
   "source": [
    "## How do you test functions that return nothing?\n",
    "\n",
    "If you have a function returning Unit or Void, how do you test it?  Fundamentally, a void returning function is by its\n",
    "very nature side-effectful.  The only way such a function can be useful is if it is writing to a file, sending a network\n",
    "request, etc.  Eventually, all code _does_ need to do something effectful (even just printing to the screen), but such\n",
    "effects can be encapsulated so that it affects nothing else.  \n",
    "\n",
    "But even so, by not returning a value, how do you test it?  How do you know if the file was written or the network\n",
    "request made it?  By the same token, functions that take no args are also inherently side effectful."
   ]
  },
  {
   "cell_type": "code",
   "execution_count": 30,
   "metadata": {
    "vscode": {
     "languageId": "rust"
    }
   },
   "outputs": [],
   "source": [
    "use std::fs::{File, OpenOptions, self};\n",
    "use std::io::Write;\n",
    "\n",
    "// Another problem here is hard coding the path to answer.txt.  what if this changes?\n",
    "fn write_to_answer(body: &str) {\n",
    "    let file = OpenOptions::new()\n",
    "        .append(true)\n",
    "        .create(true)\n",
    "        .open(\"answer.txt\");\n",
    "    if let Ok(mut f) = file {\n",
    "        f.write_all(body.as_bytes());\n",
    "    }\n",
    "}\n",
    "\n",
    "// Ok, you wrote some text...now how do you make sure it actually got written to file?\n",
    "write_to_answer(\"Some new answer\\n\");"
   ]
  },
  {
   "cell_type": "code",
   "execution_count": null,
   "metadata": {
    "vscode": {
     "languageId": "rust"
    }
   },
   "outputs": [],
   "source": []
  }
 ],
 "metadata": {
  "interpreter": {
   "hash": "e8216c222367b888d255e6c9a35219f628d8aa495f0588f39a54654cb07e9204"
  },
  "kernelspec": {
   "display_name": "Rust",
   "language": "rust",
   "name": "rust"
  },
  "language_info": {
   "codemirror_mode": "rust",
   "file_extension": ".rs",
   "mimetype": "text/rust",
   "name": "Rust",
   "pygment_lexer": "rust",
   "version": ""
  },
  "orig_nbformat": 4
 },
 "nbformat": 4,
 "nbformat_minor": 2
}
