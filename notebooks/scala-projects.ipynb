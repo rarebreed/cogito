{
 "metadata": {
  "language_info": {
   "codemirror_mode": {
    "name": "ipython",
    "version": 3
   },
   "file_extension": ".py",
   "mimetype": "text/x-python",
   "name": "python",
   "nbconvert_exporter": "python",
   "pygments_lexer": "ipython3",
   "version": 3
  },
  "orig_nbformat": 4
 },
 "nbformat": 4,
 "nbformat_minor": 2,
 "cells": [
  {
   "source": [
    "# Scala3 projects\n",
    "\n",
    "Because scala3 is so new, it's still missing some library support that would be useful for\n",
    "us.  So, here is a list of some scala projects that will serve two purposes.  Getting \n",
    "better at scala, and filling in some needed libraries\n",
    "\n",
    "- New reflectionless logging library\n",
    "- scala3 jupyterlab kernel\n",
    "- FP library\n",
    "- Scala3 to webassembly \n",
    "\n",
    "## New logging library\n",
    "\n",
    "Java's logging sucks.  Well, really, it is a combination of how java's classpath works, and\n",
    "projects having competing logging configuration.  So really, I guess it's Java's classpath issues that \n",
    "sucks.\n",
    "\n",
    "One of the bigger issues though is that most if not all java logging backends use reflection of some sort.\n",
    "This is bad if trying to create a native image.  I think a very simple logger is all that is needed.\n",
    "Writing to the console and a file is enough\n",
    "\n",
    "## Jupyter kernel\n",
    "\n",
    "There is a scala 2.12 kernel for jupyter, but that's too old.  It would be very nice to have this for \n",
    "scala3\n",
    "\n",
    "## FP library\n",
    "\n",
    "While typelevel has lots of typeclasses, they are still in 2.13.  I think we could make our own little FP library.\n",
    "We will use typelevel for IO (Cats Effect), but can use our own typeclasses otherwise.\n",
    "\n"
   ],
   "cell_type": "markdown",
   "metadata": {}
  }
 ]
}