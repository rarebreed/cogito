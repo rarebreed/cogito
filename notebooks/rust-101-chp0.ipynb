{
 "cells": [
  {
   "cell_type": "markdown",
   "metadata": {},
   "source": [
    "# Prerequisites\n",
    "\n",
    "If you don't already have rust setup, we need to install it.  Run the code cell below if you are on a *nix system.  If you are on windows, you can download and run the installer here.  You will also need to install Visual Studio Code."
   ]
  },
  {
   "cell_type": "code",
   "execution_count": null,
   "metadata": {},
   "outputs": [],
   "source": [
    "from subprocess import Popen, STDOUT, call\n",
    "import sys\n",
    "import os\n",
    "\n",
    "print(f\"os is {os.name}\")\n",
    "\n",
    "ret = call([\"rustup\", \"update\"])\n",
    "if ret == 0:\n",
    "    sys.exit(0)\n",
    "\n",
    "!curl --proto '=https' --tlsv1.2 -sSf https://sh.rustup.rs | sh\n",
    "!rustup toolchain install stable\n",
    "\n"
   ]
  },
  {
   "cell_type": "markdown",
   "metadata": {},
   "source": []
  }
 ],
 "metadata": {
  "kernelspec": {
   "display_name": "Python 3.9.7 64-bit ('3.9.7')",
   "language": "python",
   "name": "python3"
  },
  "language_info": {
   "name": "python",
   "version": "3.9.7"
  },
  "orig_nbformat": 4,
  "vscode": {
   "interpreter": {
    "hash": "49b62dd4232904afd7cee0c1d6cb226537d1d8e5b7a91b55cc5103a6912dcefd"
   }
  }
 },
 "nbformat": 4,
 "nbformat_minor": 2
}
