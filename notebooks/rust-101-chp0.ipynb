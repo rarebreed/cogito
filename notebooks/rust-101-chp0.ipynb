{
 "cells": [
  {
   "cell_type": "markdown",
   "metadata": {},
   "source": [
    "# Prerequisites\n",
    "\n",
    "If you don't already have rust setup, we need to install it.  Run the code cell below if you are on a *nix system.  If you are on windows, you can download and run the installer here.  You will also need to install Visual Studio Code."
   ]
  },
  {
   "cell_type": "code",
   "execution_count": null,
   "metadata": {},
   "outputs": [],
   "source": [
    "from subprocess import Popen, STDOUT, call\n",
    "import sys\n",
    "import os\n",
    "\n",
    "print(f\"os is {os.name}\")\n",
    "\n",
    "ret = call([\"rustup\", \"update\"])\n",
    "if ret == 0:\n",
    "    sys.exit(0)\n",
    "\n",
    "!curl --proto '=https' --tlsv1.2 -sSf https://sh.rustup.rs | sh\n",
    "!rustup toolchain install stable\n",
    "\n"
   ]
  },
  {
   "cell_type": "markdown",
   "metadata": {},
   "source": []
  }
 ],
 "metadata": {
  "interpreter": {
   "hash": "c424344bca864224c6ed92fd8dae0ecb87161d93fdf57fe2e98d6942cf3e4581"
  },
  "kernelspec": {
   "display_name": "Python 3.8.8 64-bit ('jupyter': pyenv)",
   "name": "python3"
  },
  "language_info": {
   "name": "python",
   "version": "3.8.8"
  },
  "orig_nbformat": 4
 },
 "nbformat": 4,
 "nbformat_minor": 2
}
